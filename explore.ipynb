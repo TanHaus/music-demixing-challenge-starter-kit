{
  "cells": [
    {
      "cell_type": "markdown",
      "source": [
        "# Import\r\n",
        "\r\n",
        "MUSDB18 (non-HQ): STEM data format mp4. Use stempeg import import\r\n",
        "MUSDB18-HQ: wave data\r\n",
        "\r\n",
        "Data representation: STFT (using librosa for mono, scipy for stereo) and MFCC\r\n",
        "\r\n",
        "## Ratio Mask Filtering (Oracle)\r\n",
        "\r\n",
        "Oracle Filtering\r\n",
        "\r\n",
        "Let $S_{v}$ be the STFT of track $v$\r\n",
        "\r\n",
        "Define a ratio mask on training samples\r\n",
        "\r\n",
        "$$ mask_v = \\frac{|S_v|}{|S_v| + |\\sum_{i \\neq v}{S_i}|} = \\frac{|S_v|}{|S_v| + |S_{others}|} $$\r\n",
        "\r\n",
        "Mask has the same shape as STFT\r\n",
        "\r\n",
        "To reconstruct the track, simply perform element-wise multiplication with the mixture\r\n",
        "\r\n",
        "$$ S_v' = mask_v \\cdot S_{mixture}' $$\r\n",
        "\r\n",
        "# Models\r\n",
        "\r\n",
        "Open Unmix: Learn mapping from mixture STFT to a target STFT\r\n",
        "- 4 tracks (vocal, drums, bass, other) mean there are 4 models (1 model for each target track)\r\n",
        "\r\n",
        "Asteroid\r\n",
        "\r\n",
        "Demucs\r\n",
        "\r\n",
        "NUSSL\r\n",
        "\r\n",
        "Spleeter\r\n",
        "\r\n",
        "## Improvements\r\n",
        "\r\n",
        "Data augmentation: \r\n",
        "- https://www.researchgate.net/profile/Yuki-Mitsufuji/publication/315100151_Improving_music_source_separation_based_on_deep_neural_networks_through_data_augmentation_and_network_blending/links/59ed4f844585151983ccdcba/Improving-music-source-separation-based-on-deep-neural-networks-through-data-augmentation-and-network-blending.pdf\r\n",
        "- https://hal.archives-ouvertes.fr/hal-02379796/document\r\n",
        "\r\n",
        "Model ensemble:\r\n",
        "- https://www.researchgate.net/profile/Yuki-Mitsufuji/publication/315100151_Improving_music_source_separation_based_on_deep_neural_networks_through_data_augmentation_and_network_blending/links/59ed4f844585151983ccdcba/Improving-music-source-separation-based-on-deep-neural-networks-through-data-augmentation-and-network-blending.pdf\r\n",
        "\r\n",
        "# Evaluation\r\n",
        "\r\n",
        "Use museval"
      ],
      "metadata": {
        "nteract": {
          "transient": {
            "deleting": false
          }
        }
      }
    },
    {
      "cell_type": "markdown",
      "source": [
        "## Baseline\r\n",
        "- [ ] Write code to load data\r\n",
        "- [ ] Run 1 chosen model\r\n",
        "- [ ] Write submission code\r\n",
        "\r\n",
        "## Improvements\r\n",
        "- [ ] Data augmentation methods\r\n",
        "- [ ] Research on SOTA models"
      ],
      "metadata": {
        "nteract": {
          "transient": {
            "deleting": false
          }
        }
      }
    },
    {
      "cell_type": "markdown",
      "source": [
        "# Submission\n",
        "- `test.py`:\n",
        "    - `prediction_setup()`: load model\n",
        "    - `predict()`: \n",
        "        - load single mixture audio file from file \n",
        "        - perform separation\n",
        "        - write demixed target to file path\n",
        "- `predict.py`: submit using `submission = copy_predictor` once `CopyPredictor` class has been implemented using our model"
      ],
      "metadata": {
        "nteract": {
          "transient": {
            "deleting": false
          }
        }
      }
    },
    {
      "cell_type": "markdown",
      "source": [
        "# Test code for Open UnMix"
      ],
      "metadata": {
        "nteract": {
          "transient": {
            "deleting": false
          }
        }
      }
    },
    {
      "cell_type": "code",
      "source": [
        "import torch\n",
        "import torchaudio\n",
        "from openunmix import data, predict\n",
        "from IPython.display import Audio, display"
      ],
      "outputs": [],
      "execution_count": null,
      "metadata": {
        "gather": {
          "logged": 1620970528846
        },
        "jupyter": {
          "outputs_hidden": false,
          "source_hidden": false
        },
        "nteract": {
          "transient": {
            "deleting": false
          }
        }
      }
    },
    {
      "cell_type": "code",
      "source": [
        "# load model\n",
        "torch.hub.set_dir('./models')\n",
        "separator = torch.hub.load(\"sigsep/open-unmix-pytorch\", \"umxhq\")"
      ],
      "outputs": [],
      "execution_count": null,
      "metadata": {
        "gather": {
          "logged": 1620971356184
        },
        "jupyter": {
          "outputs_hidden": false,
          "source_hidden": false
        },
        "nteract": {
          "transient": {
            "deleting": false
          }
        }
      }
    },
    {
      "cell_type": "code",
      "source": [
        "mixture_file_path = './data/test/Al James - Schoolboy Facination/mixture.wav'"
      ],
      "outputs": [],
      "execution_count": null,
      "metadata": {
        "gather": {
          "logged": 1620974306281
        },
        "jupyter": {
          "outputs_hidden": false,
          "source_hidden": false
        },
        "nteract": {
          "transient": {
            "deleting": false
          }
        }
      }
    },
    {
      "cell_type": "code",
      "source": [
        "# load mixture audio\n",
        "audio, rate = data.load_audio(mixture_file_path)\n",
        "# perform separation\n",
        "estimates = predict.separate(audio=audio, rate=rate, separator=separator)"
      ],
      "outputs": [],
      "execution_count": null,
      "metadata": {
        "gather": {
          "logged": 1620974384759
        },
        "jupyter": {
          "outputs_hidden": false,
          "source_hidden": false
        },
        "nteract": {
          "transient": {
            "deleting": false
          }
        }
      }
    },
    {
      "cell_type": "code",
      "source": [
        "# display demixed targets\n",
        "# WILL RESULT IN A LARGE NOTEBOOK FILE. DO NOT RUN THIS ON AZURE WORKSPACE.\n",
        "for target, estimate in estimates.items():\n",
        "    print(target)\n",
        "    audio = estimate.detach().cpu().numpy()[0]\n",
        "    display(Audio(audio, rate=rate))"
      ],
      "outputs": [],
      "execution_count": null,
      "metadata": {
        "gather": {
          "logged": 1620974482568
        },
        "jupyter": {
          "outputs_hidden": false,
          "source_hidden": false
        },
        "nteract": {
          "transient": {
            "deleting": false
          }
        }
      }
    },
    {
      "cell_type": "code",
      "source": [
        "# save demixed targets\n",
        "for target, estimate in estimates.items():\n",
        "    torchaudio.save(\n",
        "        target + \".wav\",\n",
        "        torch.squeeze(estimate),\n",
        "        sample_rate=rate,\n",
        "    )"
      ],
      "outputs": [],
      "execution_count": null,
      "metadata": {
        "jupyter": {
          "outputs_hidden": false,
          "source_hidden": false
        },
        "nteract": {
          "transient": {
            "deleting": false
          }
        }
      }
    },
    {
      "cell_type": "markdown",
      "source": [
        "# Data augmentation\n",
        "- [Uhlich et al. (2017)](https://www.researchgate.net/profile/Yuki-Mitsufuji/publication/315100151_Improving_music_source_separation_based_on_deep_neural_networks_through_data_augmentation_and_network_blending/links/59ed4f844585151983ccdcba/Improving-music-source-separation-based-on-deep-neural-networks-through-data-augmentation-and-network-blending.pdf): \n",
        "    - STFT \n",
        "    - modify data on-the-fly when constructing a training mini-batch sequence for BLSTMs (mini-batch size: 10, sequence length: 500)\n",
        "    - random swapping left/right channel for each instrument\n",
        "    - random scaling with uniform amplitudes from \\[0.25, 1.25\\]\n",
        "    - random chunking into sequences for each instrument\n",
        "    - random mixing of instruments from different songs\n",
        "- [Nachmani & Wolf (2019)](https://arxiv.org/pdf/1904.06590.pdf): \n",
        "    - single CNN encoder and single WaveNet decoder\n",
        "    - playing song forward and backward in time\n",
        "    - multiplying values of raw audio signal by -1 (i.e. phase shift by 180 degrees)\n",
        "- [Cohen-Hadria et al. (2019)](https://arxiv.org/pdf/1903.01415.pdf):\n",
        "    - 4 signals (voice, drum, bass, accompaniment) are transformed separately using  most appropriate parameters\n",
        "    - pitch shfiting but preserve spectral envelop in \\[-300, -200, -100, 0 100, 200, 300]\n",
        "    - time stretching in \\[0.5, 0.93, 1, 1.07, 1.15]\n",
        "    - transformation of spectral envelope (i.e. formant) only of the singing voice in \\[-150, -100, 0, 100, 150]\n",
        "    - improvements:\n",
        "        - U-Net: pitch transposition\n",
        "        - U-Net and Wave-U-Net: transposition, time stretching, formant shifting\n",
        "- [Défossez et al. (2021)](https://hal.archives-ouvertes.fr/hal-02379796/document):\n",
        "    - 2 architectures, both are waveform models\n",
        "        - Conv-Tasnet (adapted)\n",
        "        - Demucs: convoluational encoder, BLSTM, convoluation decoder, with encoder and decoder linked with skip U-Net connections\n",
        "    - shulffling sources within one batch to generate new mixing\n",
        "    - random swapping channels\n",
        "    - random scaling by a uniform factor \\[0.25, 1.25]\n",
        "    - multipling each source by $\\pm1$\n",
        "    - random changing pitch by -2, -1, 0, +1, +2 semitones (20% of the time)\n",
        "    - change tempo by a factor taken uniformly in \\[0.88, 1.12]\n",
        "    - Conv-Tasnet doesn't benefit from pitch/tempo shift augmentation"
      ],
      "metadata": {
        "nteract": {
          "transient": {
            "deleting": false
          }
        }
      }
    },
    {
      "cell_type": "markdown",
      "source": [
        "# Model blending\n",
        "[Uhlich et al. (2017)](https://www.researchgate.net/profile/Yuki-Mitsufuji/publication/315100151_Improving_music_source_separation_based_on_deep_neural_networks_through_data_augmentation_and_network_blending/links/59ed4f844585151983ccdcba/Improving-music-source-separation-based-on-deep-neural-networks-through-data-augmentation-and-network-blending.pdf):\n",
        "- Step 1: time-invariant linear combination of raw DNN outputs, for each instrument $i$ \n",
        "    - $\\hat{\\textbf{s}}_{i, \\text{BLEND}}(n)=\\lambda \\hat{\\textbf{s}}_{i, \\text{FNN}}(n)+(1-\\lambda)\\hat{\\textbf{s}}_{i, \\text{BLSTM}}(n)$\n",
        "    - optimal $\\lambda=0.25$ for DSD100\n",
        "- Step 2: multi-channel Wiener-filter post-processing"
      ],
      "metadata": {
        "nteract": {
          "transient": {
            "deleting": false
          }
        }
      }
    },
    {
      "cell_type": "markdown",
      "source": [
        "# Architecture\n",
        "[Défossez et al. (2021)](https://hal.archives-ouvertes.fr/hal-02379796/document):\n",
        "- waveform domain models performm better for `bass` and `drums` sources; spectrogram domain models perform better on `vocals` and `other` sources"
      ],
      "metadata": {
        "nteract": {
          "transient": {
            "deleting": false
          }
        }
      }
    },
    {
      "cell_type": "markdown",
      "source": [
        "# "
      ],
      "metadata": {
        "nteract": {
          "transient": {
            "deleting": false
          }
        }
      }
    },
    {
      "cell_type": "code",
      "source": [],
      "outputs": [],
      "execution_count": null,
      "metadata": {
        "jupyter": {
          "outputs_hidden": false,
          "source_hidden": false
        },
        "nteract": {
          "transient": {
            "deleting": false
          }
        }
      }
    }
  ],
  "metadata": {
    "kernel_info": {
      "name": "python38-azureml"
    },
    "kernelspec": {
      "name": "python38-azureml",
      "language": "python",
      "display_name": "Python 3.8 - AzureML"
    },
    "language_info": {
      "name": "python",
      "version": "3.8.1",
      "mimetype": "text/x-python",
      "codemirror_mode": {
        "name": "ipython",
        "version": 3
      },
      "pygments_lexer": "ipython3",
      "nbconvert_exporter": "python",
      "file_extension": ".py"
    },
    "microsoft": {
      "host": {
        "AzureML": {
          "notebookHasBeenCompleted": true
        }
      }
    },
    "nteract": {
      "version": "nteract-front-end@1.0.0"
    }
  },
  "nbformat": 4,
  "nbformat_minor": 2
}